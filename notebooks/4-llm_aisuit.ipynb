{
  "cells": [
    {
      "cell_type": "markdown",
      "metadata": {},
      "source": [
        "# Candidate Evaluation with AISuite\n",
        "> format: ipynb\n",
        "\n",
        "> jupyter: python3"
      ]
    },
    {
      "cell_type": "markdown",
      "metadata": {},
      "source": [
        "# Candidate Evaluation with AISuite"
      ]
    },
    {
      "cell_type": "markdown",
      "metadata": {},
      "source": [
        "This notebook evaluates job candidates using AISuite by combining system and user prompts \n",
        "stored in external files. It retrieves credentials, loads necessary data, \n",
        "constructs prompts, and generates AI-driven candidate evaluations."
      ]
    },
    {
      "cell_type": "code",
      "execution_count": null,
      "metadata": {},
      "outputs": [],
      "source": [
        "import os\n",
        "import json\n",
        "import pandas as pd\n",
        "from pathlib import Path\n",
        "import aisuite as ai\n",
        "from IPython.display import display, Markdown"
      ]
    },
    {
      "cell_type": "markdown",
      "metadata": {},
      "source": [
        "## Configuration and Setup\n",
        "Define file paths and load credentials."
      ]
    },
    {
      "cell_type": "code",
      "execution_count": null,
      "metadata": {},
      "outputs": [
        {
          "name": "stdout",
          "output_type": "stream",
          "text": [
            "Environment variable HUGGINGFACE_TOKEN set.\n"
          ]
        }
      ],
      "source": [
        "# Paths configuration\n",
        "paths = {\n",
        "    'root': Path.cwd().parent,\n",
        "    'data': Path.cwd().parent / \"data\",\n",
        "    \"config\": Path.cwd().parent / \"config\"\n",
        "}\n",
        "\n",
        "# Load credentials from config/credentials.json\n",
        "with open(paths[\"config\"] / 'credentials.json') as f:\n",
        "    credentials = json.load(f)\n",
        "\n",
        "# Set necessary environment variables for API tokens\n",
        "os.environ[\"HUGGINGFACE_TOKEN\"] = credentials.get(\"HUGGINGFACE_TOKEN\", \"\")\n",
        "os.environ[\"GROQ_API_KEY\"] = credentials.get(\"GROQ_API_KEY\", \"\")\n",
        "os.environ[\"OPENAI_API_KEY\"] = credentials.get(\"OPENAI_API_KEY\", \"\")\n",
        "\n",
        "if os.environ[\"HUGGINGFACE_TOKEN\"]:\n",
        "    print(\"Environment variable HUGGINGFACE_TOKEN set.\")"
      ]
    },
    {
      "cell_type": "markdown",
      "metadata": {},
      "source": [
        "## Load External Text Prompts\n",
        "Load system description and user prompt template from external files."
      ]
    },
    {
      "cell_type": "code",
      "execution_count": null,
      "metadata": {},
      "outputs": [],
      "source": [
        "# Load system description and user prompt template from files\n",
        "with open(paths[\"config\"] / 'role_system_description.txt', 'r') as f:\n",
        "    role_system_description = f.read()\n",
        "\n",
        "with open(paths[\"config\"] / 'user_prompt_template.txt', 'r') as f:\n",
        "    user_prompt_template = f.read()"
      ]
    },
    {
      "cell_type": "markdown",
      "metadata": {},
      "source": [
        "## Load Instructions and Candidate Data"
      ]
    },
    {
      "cell_type": "code",
      "execution_count": null,
      "metadata": {},
      "outputs": [
        {
          "name": "stdout",
          "output_type": "stream",
          "text": [
            "Instructions successfully read!\n"
          ]
        }
      ],
      "source": [
        "# Load instructions (if needed for context)\n",
        "try:\n",
        "    with open(paths[\"config\"] / \"instructions.txt\", 'r') as file:\n",
        "        instructions = file.read()\n",
        "        print(\"Instructions successfully read!\")\n",
        "except FileNotFoundError:\n",
        "    instructions = \"\"\n",
        "    print(\"Instructions file not found.\")\n",
        "\n",
        "# Load shortlisted candidates from parquet or CSV\n",
        "try:\n",
        "    list_of_candidates = (\n",
        "        pd.read_parquet(paths['data'] / \"processed/filtered.parquet\", columns=['job_title', 'rank'])\n",
        "          .set_index(\"rank\")['job_title']\n",
        "          .to_list()\n",
        "    )\n",
        "except Exception as e:\n",
        "    print(f\"Failed to load parquet file: {e}. Loading CSV instead.\")\n",
        "    list_of_candidates = (\n",
        "        pd.read_csv(paths['data'] / \"processed/filtered.csv\", index_col=['rank'], usecols=['job_title'])\n",
        "          ['job_title']\n",
        "          .to_list()\n",
        "    )\n"
      ]
    },
    {
      "cell_type": "markdown",
      "metadata": {},
      "source": [
        "## Prepare Dynamic Prompt Parameters"
      ]
    },
    {
      "cell_type": "code",
      "execution_count": null,
      "metadata": {},
      "outputs": [],
      "source": [
        "# Define dynamic parameters for the prompt\n",
        "list_similar_roles = 'aspiring human resources'\n",
        "location = \"New York\"\n",
        "\n",
        "search_criteria = \"\"\"**Criteria:**\n",
        "- **Motivation:** Demonstrated interest and passion for a career in Human Resources.\n",
        "- **Experience & Background:** Relevant experience, transferable skills, and educational background.\n",
        "- **Fit with Company Values:** Highly motivated individuals with fundamental HR knowledge are preferred over those with extensive credentials.\n",
        "\"\"\"\n",
        "\n",
        "# Format the user prompt using the template and parameters\n",
        "user_prompt = user_prompt_template.format(\n",
        "    location=location,\n",
        "    list_similar_roles=list_similar_roles,\n",
        "    search_criteria=search_criteria,\n",
        "    list_of_candidates=\"\\n\".join(list_of_candidates)  # Joining list elements for display\n",
        ")\n",
        "\n",
        "# Combine system description and user prompt for models that don't support system roles\n",
        "combined_prompt = f\"{role_system_description}\\n\\n{user_prompt}\""
      ]
    },
    {
      "cell_type": "markdown",
      "metadata": {},
      "source": [
        "## Define AISuite Generation Function"
      ]
    },
    {
      "cell_type": "code",
      "execution_count": null,
      "metadata": {},
      "outputs": [],
      "source": [
        "def aisuite_generate(messages, model=\"openai:o1-mini\", max_tokens=1500, temperature=0.0):\n",
        "    \"\"\"\n",
        "    Generate a response using AISuite's chat completion API.\n",
        "    \n",
        "    Args:\n",
        "        messages (list): List of message dicts for the model.\n",
        "        model (str): Model identifier to use.\n",
        "        max_tokens (int): Maximum number of tokens to generate.\n",
        "        temperature (float): Sampling temperature.\n",
        "\n",
        "    Returns:\n",
        "        str: Generated response text.\n",
        "    \"\"\"\n",
        "    client = ai.Client(\n",
        "        provider_configs={\n",
        "            \"groq\": {\n",
        "                \"api_key\": os.environ[\"GROQ_API_KEY\"]\n",
        "            },\n",
        "            # Add additional provider configurations as required\n",
        "        }\n",
        "    )\n",
        "    response = client.chat.completions.create(\n",
        "        model=model,\n",
        "        messages=messages,\n",
        "        max_completion_tokens=max_tokens,\n",
        "        # temperature=temperature,  # Uncomment if supported\n",
        "    )\n",
        "    return response.choices[0].message.content"
      ]
    },
    {
      "cell_type": "markdown",
      "metadata": {},
      "source": [
        "## Generate and Display Candidate Evaluation"
      ]
    },
    {
      "cell_type": "code",
      "execution_count": null,
      "metadata": {},
      "outputs": [
        {
          "data": {
            "text/markdown": [
              "**Generated Output:**\n",
              "Based on the provided search criteria and location preference for **New York**, the following table ranks the top 5 candidates most suitable for an aspiring Human Resources position. The evaluation prioritizes motivation, relevant experience and background, and alignment with company values emphasizing fundamental HR knowledge and enthusiasm over extensive credentials.\n",
              "\n",
              "| **Candidate**                                                                 | **Experience & Background**                                                                                   | **Reasoning for Choosing This Candidate**                                                                                                                                                   |\n",
              "|-------------------------------------------------------------------------------|---------------------------------------------------------------------------------------------------------------|--------------------------------------------------------------------------------------------------------------------------------------------------------------------------------------------|\n",
              "| **Aspiring Human Resources Professional - Energetic and Team-Focused Leader** | Demonstrates strong leadership skills and teamwork experience, indicating potential for HR roles that require collaboration and employee engagement. | Exhibits high motivation and passion for HR through leadership and team-focused attributes, aligning well with company values that prioritize an inclusive and dynamic work environment.       |\n",
              "| **Aspiring Human Resources Professional - Passionate About Inclusivity**     | Focused on creating an inclusive and engaging work environment, showcasing a commitment to diversity and employee well-being. | Shows a clear passion for fostering an inclusive workplace, which is a key company value. Fundamental HR knowledge is evident through their dedication to enhancing workplace culture.       |\n",
              "| **CT Bauer College of Business Graduate - Magna Cum Laude**                  | Holds a business degree with honors, providing a solid educational foundation relevant to HR principles and practices. | Combines strong academic performance with an aspiration in HR, indicating both capability and motivation. The educational background ensures fundamental HR knowledge is well-established. |\n",
              "| **Business Management Major - Aspiring Human Resources Manager**             | Studying business management with a focus on HR management, offering relevant academic and potential practical experience. | Demonstrates a clear career focus in HR management, aligning with the role's requirements. Educational pursuits in business management support a solid understanding of HR fundamentals.     |\n",
              "| **Experienced Retail Manager - Aspiring Human Resources Professional**       | Brings substantial management experience from the retail sector, highlighting transferable skills such as employee supervision and conflict resolution. | Leverages extensive experience in a managerial role to transition into HR, showing motivation to apply transferable skills. This practical background complements fundamental HR knowledge.    |"
            ],
            "text/plain": [
              "<IPython.core.display.Markdown object>"
            ]
          },
          "metadata": {},
          "output_type": "display_data"
        }
      ],
      "source": [
        "# Prepare messages\n",
        "messages = [{\"role\": \"user\", \"content\": combined_prompt}]\n",
        "\n",
        "# Generate text using AISuite\n",
        "generated_output = aisuite_generate(messages, model=\"openai:o1-mini\", max_tokens=5000)\n",
        "\n",
        "# Display the generated output in Markdown format\n",
        "display(Markdown(\"**Generated Output:**\\n\" + generated_output))"
      ]
    }
  ],
  "metadata": {
    "kernelspec": {
      "display_name": "Python 3 (ipykernel)",
      "language": "python",
      "name": "python3",
      "path": "C:\\Users\\Guill\\Miniconda3\\share\\jupyter\\kernels\\python3"
    }
  },
  "nbformat": 4,
  "nbformat_minor": 4
}
