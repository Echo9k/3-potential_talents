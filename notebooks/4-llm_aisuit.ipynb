{
  "cells": [
    {
      "cell_type": "markdown",
      "metadata": {},
      "source": [
        "# Candidate Evaluation with AISuite\n",
        "> format: ipynb\n",
        "\n",
        "> jupyter: python3"
      ]
    },
    {
      "cell_type": "markdown",
      "metadata": {},
      "source": [
        "# Candidate Evaluation with AISuite"
      ]
    },
    {
      "cell_type": "markdown",
      "metadata": {},
      "source": [
        "This notebook evaluates job candidates using AISuite by combining system and user prompts \n",
        "stored in external files. It retrieves credentials, loads necessary data, \n",
        "constructs prompts, and generates AI-driven candidate evaluations."
      ]
    },
    {
      "cell_type": "code",
      "execution_count": 1,
      "metadata": {},
      "outputs": [],
      "source": [
        "import os\n",
        "import json\n",
        "import toml\n",
        "\n",
        "from pathlib import Path\n",
        "from IPython.display import display, Markdown\n",
        "\n",
        "import pandas as pd"
      ]
    },
    {
      "cell_type": "markdown",
      "metadata": {},
      "source": [
        "## Configuration and Setup\n",
        "Define file paths and load credentials."
      ]
    },
    {
      "cell_type": "code",
      "execution_count": 2,
      "metadata": {},
      "outputs": [
        {
          "name": "stdout",
          "output_type": "stream",
          "text": [
            "Environment variable HUGGINGFACE_TOKEN set.\n"
          ]
        }
      ],
      "source": [
        "# Paths configuration\n",
        "paths = {\n",
        "    'root': Path.cwd().parent,\n",
        "    'data': Path.cwd().parent / \"data\",\n",
        "    \"config\": Path.cwd().parent / \"config\"\n",
        "}\n",
        "\n",
        "# Load credentials from config/credentials.json\n",
        "with open(paths[\"config\"] / 'credentials.json') as f:\n",
        "    credentials = json.load(f)"
      ]
    },
    {
      "cell_type": "markdown",
      "metadata": {},
      "source": [
        "## Load External Text Prompts\n",
        "Load system description and user prompt template from external files."
      ]
    },
    {
      "cell_type": "code",
      "execution_count": 3,
      "metadata": {},
      "outputs": [],
      "source": [
        "# Load system description and user prompt template from files\n",
        "with open(paths[\"config\"] / 'role_system_description.md', 'r') as f:\n",
        "    role_system_description = f.read()\n",
        "\n",
        "with open(paths[\"config\"] / 'user_prompt_template.md', 'r') as f:\n",
        "    user_prompt_template = f.read()\n",
        "\n",
        "with open(paths[\"config\"] / 'response_format.md', 'r') as f:\n",
        "    response_format = f.read()\n",
        "\n",
        "with open(paths[\"config\"] / 'search_criteria.md', 'r') as f:\n",
        "    search_criteria = f.read()\n"
      ]
    },
    {
      "cell_type": "markdown",
      "metadata": {},
      "source": [
        "## Load Instructions and Candidate Data"
      ]
    },
    {
      "cell_type": "code",
      "execution_count": null,
      "metadata": {},
      "outputs": [
        {
          "name": "stdout",
          "output_type": "stream",
          "text": [
            "Instructions successfully read!\n",
            "Failed to load parquet file: Unable to find a usable engine; tried using: 'pyarrow', 'fastparquet'.\n",
            "A suitable version of pyarrow or fastparquet is required for parquet support.\n",
            "Trying to import the above resulted in these errors:\n",
            " - Missing optional dependency 'pyarrow'. pyarrow is required for parquet support. Use pip or conda to install pyarrow.\n",
            " - Missing optional dependency 'fastparquet'. fastparquet is required for parquet support. Use pip or conda to install fastparquet.. Loading CSV instead.\n"
          ]
        }
      ],
      "source": [
        "# Load instructions (if needed for context)\n",
        "try:\n",
        "    with open(paths[\"config\"] / \"instructions.md\", 'r') as file:\n",
        "        instructions = file.read()\n",
        "        print(\"Instructions successfully read!\")\n",
        "except FileNotFoundError:\n",
        "    instructions = \"\"\n",
        "    print(\"Instructions file not found.\")\n",
        "\n",
        "# Load shortlisted candidates from parquet or CSV\n",
        "try:\n",
        "    list_of_candidates = (\n",
        "        pd.read_parquet(paths['data'] / \"processed/filtered.parquet\", columns=['job_title'])['job_title']\n",
        "          .to_list()\n",
        "    )\n",
        "except Exception as e:\n",
        "    print(f\"Failed to load parquet file: {e}. Loading CSV instead.\")\n",
        "    list_of_candidates = (\n",
        "        pd.read_csv(paths['data'] / \"processed/filtered.csv\", index_col=['rank'], usecols=['rank', 'job_title'])\n",
        "          ['job_title']\n",
        "          .to_list()\n",
        "    )"
      ]
    },
    {
      "cell_type": "markdown",
      "metadata": {},
      "source": [
        "## Prepare Dynamic Prompt Parameters"
      ]
    },
    {
      "cell_type": "code",
      "execution_count": 5,
      "metadata": {},
      "outputs": [],
      "source": [
        "# Define dynamic parameters for the prompt\n",
        "search_terms_path = paths[\"config\"] / 'search_terms.toml'\n",
        "search_terms = toml.load(search_terms_path)\n",
        "\n",
        "list_similar_roles = ', '.join(search_terms['search_phrases'])\n",
        "location = search_terms['location']\n",
        "\n",
        "# Format the user prompt using the template and parameters\n",
        "user_prompt = user_prompt_template.format(\n",
        "    location=location,\n",
        "    list_similar_roles=list_similar_roles,\n",
        "    search_criteria=search_criteria,\n",
        "    list_of_candidates=\"\\n\".join(list_of_candidates)  # Joining list elements for display\n",
        ")\n",
        "\n",
        "# Combine system description and user prompt for models that don't support system roles\n",
        "combined_prompt = f\"{role_system_description}\\n\\n{user_prompt}\""
      ]
    },
    {
      "cell_type": "markdown",
      "metadata": {},
      "source": [
        "## Define AISuite Generation Function\n"
      ]
    },
    {
      "cell_type": "code",
      "execution_count": 11,
      "metadata": {},
      "outputs": [],
      "source": [
        "import sys\n",
        "import importlib.util\n",
        "\n",
        "# Define the path to the module\n",
        "module_path = paths['root'] / 'potential_talents' / 'models' / 'aisuite_generate.py'\n",
        "\n",
        "# Load the module\n",
        "spec = importlib.util.spec_from_file_location(\"aisuite_generate\", module_path)\n",
        "aisuite_generate_module = importlib.util.module_from_spec(spec)\n",
        "sys.modules[\"aisuite_generate\"] = aisuite_generate_module\n",
        "spec.loader.exec_module(aisuite_generate_module)\n",
        "\n",
        "# Import the function\n",
        "aisuite_generate = aisuite_generate_module.aisuite_generate"
      ]
    },
    {
      "cell_type": "markdown",
      "metadata": {},
      "source": [
        "## Generate and Display Candidate Evaluation"
      ]
    },
    {
      "cell_type": "code",
      "execution_count": 12,
      "metadata": {},
      "outputs": [
        {
          "data": {
            "text/markdown": [
              "**Generated Output:**\n",
              "Here are the top 5 candidates most suitable for an entry-level Human Resources position in New York based on your criteria:\n",
              "\n",
              "| **Candidate**                                                                                                                                         | **Experience & Background**                                                                                                     | **Reasoning for Choosing This Candidate**                                                                                                                                                      |\n",
              "|-------------------------------------------------------------------------------------------------------------------------------------------------------|-------------------------------------------------------------------------------------------------------------------------------|-----------------------------------------------------------------------------------------------------------------------------------------------------------------------------------------------|\n",
              "| **Aspiring Human Resources Professional Passionate About Helping to Create an Inclusive and Engaging Work Environment**                             | Aspiring HR professional with a focus on inclusivity and employee engagement.                                                 | Demonstrates a clear passion for creating positive workplace environments, aligning with company values. Shows motivation and fundamental HR interest, ideal for entry-level roles.              |\n",
              "| **Retired Army National Guard Recruiter Office Manager Seeking a Position in Human Resources**                                                      | Former Army National Guard recruiter and office manager with transferable leadership and recruitment skills.                   | Brings strong leadership and recruitment experience from the military, indicating high motivation to transition into HR. Aligns well with values emphasizing discipline and teamwork.             |\n",
              "| **Aspiring Human Resources Manager Seeking Internship in Human Resources**                                                                          | Aspiring HR manager actively seeking internships to gain hands-on experience in the field.                                     | Proactively seeking opportunities to enter the HR field, showcasing strong motivation and commitment. Ideal for entry-level positions requiring eagerness to learn and grow.                      |\n",
              "| **Aspiring Human Resources Professional: An Energetic and Team-Focused Leader**                                                                       | Energetic, team-focused leader with aspirations in human resources.                                                           | Exhibits strong interpersonal skills and enthusiasm for HR, essential for collaborative and dynamic HR environments. Balances motivation with promising leadership potential.                    |\n",
              "| **CT Bauer College of Business Graduate, Magna Cum Laude, and Aspiring Human Resources Professional**                                               | Recent business graduate with high academic achievements and a focus on human resources.                                       | Exceptional academic background combined with a clear focus on HR demonstrates both capability and motivation. Prepared to apply solid foundational knowledge to entry-level HR roles.           |"
            ],
            "text/plain": [
              "<IPython.core.display.Markdown object>"
            ]
          },
          "metadata": {},
          "output_type": "display_data"
        }
      ],
      "source": [
        "# Prepare messages\n",
        "messages = [{\"role\": \"user\", \"content\": combined_prompt}]\n",
        "\n",
        "# Generate text using AISuite\n",
        "generated_output = aisuite_generate(messages, model=\"openai:o1-mini\", max_tokens=5000)\n",
        "\n",
        "# Display the generated output in Markdown format\n",
        "display(Markdown(\"**Generated Output:**\\n\" + generated_output))"
      ]
    }
  ],
  "metadata": {
    "kernelspec": {
      "display_name": "aisuit",
      "language": "python",
      "name": "python3"
    },
    "language_info": {
      "codemirror_mode": {
        "name": "ipython",
        "version": 3
      },
      "file_extension": ".py",
      "mimetype": "text/x-python",
      "name": "python",
      "nbconvert_exporter": "python",
      "pygments_lexer": "ipython3",
      "version": "3.13.1"
    }
  },
  "nbformat": 4,
  "nbformat_minor": 4
}
