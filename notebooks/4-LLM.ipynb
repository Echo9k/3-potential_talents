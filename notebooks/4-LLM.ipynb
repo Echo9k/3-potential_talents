{
 "cells": [
  {
   "cell_type": "code",
   "execution_count": null,
   "metadata": {},
   "outputs": [
    {
     "name": "stderr",
     "output_type": "stream",
     "text": [
      "c:\\Users\\Guill\\Miniconda3\\envs\\a4_llm\\Lib\\site-packages\\tqdm\\auto.py:21: TqdmWarning: IProgress not found. Please update jupyter and ipywidgets. See https://ipywidgets.readthedocs.io/en/stable/user_install.html\n",
      "  from .autonotebook import tqdm as notebook_tqdm\n"
     ]
    },
    {
     "name": "stdout",
     "output_type": "stream",
     "text": [
      "Environment variable HUGGINGFACE_TOKEN set.\n"
     ]
    },
    {
     "ename": "",
     "evalue": "",
     "output_type": "error",
     "traceback": [
      "\u001b[1;31mThe Kernel crashed while executing code in the current cell or a previous cell. \n",
      "\u001b[1;31mPlease review the code in the cell(s) to identify a possible cause of the failure. \n",
      "\u001b[1;31mClick <a href='https://aka.ms/vscodeJupyterKernelCrash'>here</a> for more info. \n",
      "\u001b[1;31mView Jupyter <a href='command:jupyter.viewOutput'>log</a> for further details."
     ]
    }
   ],
   "source": [
    "import pandas as pd\n",
    "import aisuite as ai\n",
    "from pathlib import Path\n",
    "from transformers import (\n",
    "    AutoModelForCausalLM,\n",
    "    AutoTokenizer,\n",
    "    Trainer,\n",
    "    TrainingArguments,\n",
    "    DataCollatorForLanguageModeling,\n",
    ")\n",
    "import os\n",
    "import json\n",
    "\n",
    "# Paths\n",
    "paths = {\n",
    "    'root': Path.cwd().parent,\n",
    "    'data': Path.cwd().parent / \"data\"\n",
    "}\n",
    "\n",
    "with open(paths[\"root\"] / 'config/credentials.json') as f:\n",
    "    credentials = json.load(f)\n",
    "\n",
    "if \"HUGGINGFACE_TOKEN\" in os.environ or \"HUGGINGFACE_TOKEN\" in credentials:\n",
    "    print(\"Environment variable HUGGINGFACE_TOKEN set.\")"
   ]
  },
  {
   "cell_type": "code",
   "execution_count": null,
   "metadata": {},
   "outputs": [
    {
     "name": "stderr",
     "output_type": "stream",
     "text": [
      "`flash-attention` package not found, consider installing for better performance: No module named 'flash_attn'.\n",
      "Current `flash-attention` does not support `window_size`. Either upgrade or use `attn_implementation='eager'`.\n"
     ]
    }
   ],
   "source": [
    "# Model initialization\n",
    "model_name = \"microsoft/Phi-3-mini-128k-instruct\"\n",
    "tokenizer = AutoTokenizer.from_pretrained(model_name, trust_remote_code=True)\n",
    "model = AutoModelForCausalLM.from_pretrained(model_name, trust_remote_code=True)\n",
    "\n",
    "# Load data\n",
    "try:\n",
    "    data = pd.read_parquet(paths['data'] / \"interim/encoded.parquet\")\n",
    "except Exception as e:\n",
    "    print(f\"Failed to load parquet file: {e}. Loading CSV instead.\")\n",
    "    data = pd.read_csv(paths['data'] / \"interim/encoded.csv\")\n",
    "\n",
    "\n",
    "# Tokenize the dataset\n",
    "def tokenize_function(batch):\n",
    "    return tokenizer(batch[\"job_title\"],\n",
    "                     padding=\"max_length\",\n",
    "                     truncation=True, max_length=256)"
   ]
  },
  {
   "cell_type": "code",
   "execution_count": null,
   "metadata": {},
   "outputs": [],
   "source": [
    "# Tokenize the data[\"job_title\"]\n",
    "tokenized_data = [tokenize_function({\"job_title\": job}) for job in data[\"job_title\"]]\n",
    "\n",
    "# Convert tokenized data to a format suitable for training\n",
    "# Ensure tokenized_data contains input_ids and attention_mask\n",
    "input_ids = [item[\"input_ids\"] for item in tokenized_data]\n",
    "attention_masks = [item[\"attention_mask\"] for item in tokenized_data]\n",
    "\n",
    "# Prepare tokenized data as a list of dictionaries\n",
    "tokenized_dataset = [{\"input_ids\": ids, \"attention_mask\": mask} for ids, mask in zip(input_ids, attention_masks)]\n",
    "\n",
    "# Define training arguments\n",
    "model_dir = \"./models/Phi3/\"\n",
    "training_args = TrainingArguments(\n",
    "    output_dir=model_dir,\n",
    "    num_train_epochs=1,\n",
    "    per_device_train_batch_size=8,\n",
    "    save_steps=5000,\n",
    "    save_total_limit=2,\n",
    "    report_to=\"none\",\n",
    ")\n",
    "\n",
    "# Define data collator\n",
    "data_collator = DataCollatorForLanguageModeling(\n",
    "    tokenizer=tokenizer,\n",
    "    mlm=False\n",
    ")\n",
    "\n",
    "# Convert the tokenized data to a PyTorch DataLoader compatible format\n",
    "from torch.utils.data import DataLoader\n",
    "\n",
    "train_dataset = torch.utils.data.Dataset.from_list(tokenized_dataset)\n",
    "train_loader = DataLoader(train_dataset, batch_size=8, collate_fn=data_collator)\n",
    "\n",
    "# Trainer initialization\n",
    "trainer = Trainer(\n",
    "    model=model,\n",
    "    args=training_args,\n",
    "    data_collator=data_collator,\n",
    "    train_dataset=train_loader,\n",
    ")\n",
    "\n",
    "# Train the model\n",
    "trainer.train()\n",
    "\n",
    "# Save the model\n",
    "trainer.save_model(model_dir)\n",
    "tokenizer.save_pretrained(model_dir)\n",
    "\n",
    "# Generate results\n",
    "search_phrase = 'aspiring human resources'\n",
    "location = \"New york\"\n",
    "\n",
    "# Define the task for the model\n",
    "instructions = \"Rank the candidates based on their job_title against our search term using cosine similarity. The higher the score, the better the match. Include the cosine similarity scores. Return the top 5 candidates in markdown format. Do not show intermediary responses, nor the reasoning, only show the final table result.\"\n",
    "\n",
    "# Format inputs\n",
    "data_sample = data['job_title'].sample(15, random_state=42).to_list()\n",
    "messages = f\"Instructions: {instructions}\\n\\nsearch term:{search_phrase}\\n\\nCandidates: {data_sample}\"\n",
    "inputs = tokenizer(messages, return_tensors=\"pt\")\n",
    "\n",
    "# Generate a response\n",
    "outputs = model.generate(**inputs, max_length=800+1)\n",
    "print(tokenizer.decode(outputs[0], skip_special_tokens=True))\n"
   ]
  }
 ],
 "metadata": {
  "kernelspec": {
   "display_name": "a4_llm",
   "language": "python",
   "name": "python3"
  },
  "language_info": {
   "codemirror_mode": {
    "name": "ipython",
    "version": 3
   },
   "file_extension": ".py",
   "mimetype": "text/x-python",
   "name": "python",
   "nbconvert_exporter": "python",
   "pygments_lexer": "ipython3",
   "version": "3.11.11"
  }
 },
 "nbformat": 4,
 "nbformat_minor": 2
}
