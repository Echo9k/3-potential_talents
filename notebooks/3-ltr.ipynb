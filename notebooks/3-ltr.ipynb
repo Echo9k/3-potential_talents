{
 "cells": [
  {
   "cell_type": "markdown",
   "metadata": {},
   "source": [
    "## Candidate Ranking and Re-Ranking with Starring\n",
    "\n",
    "This section focuses on testing the performance of the candidate ranking system. Key steps and highlights include:\n",
    "\n",
    "- **Data-Driven Insights**: Automating and refining the ranking process to improve efficiency and decision-making accuracy.\n",
    "- **Two-Step Ranking Process**:\n",
    "  1. **Initial Ranking**: Candidates are ranked based on their initial fitness scores (`fit`), providing a baseline.\n",
    "  2. **Re-Ranking with Starring**: Feedback from users (e.g., starring preferred candidates) dynamically updates the ranking model using Learning-to-Rank techniques."
   ]
  },
  {
   "cell_type": "code",
   "execution_count": null,
   "metadata": {},
   "outputs": [],
   "source": [
    "import os\n",
    "import sys\n",
    "\n",
    "\n",
    "try:\n",
    "    from google.colab import drive\n",
    "    drive.mount('/content/drive')\n",
    "    root_dir = \"/content/drive/MyDrive/wdir/repos/Apziva/3-potential_talents/\"\n",
    "    os.getcwd()\n",
    "\n",
    "except ImportError:\n",
    "    while 'potential_talents' not in os.listdir('.'):\n",
    "        os.chdir('..')\n",
    "        root_dir=os.getcwd()\n",
    "    \n",
    "    # append term_deposit to system to import custom functions\n",
    "    sys.path.append('.')\n",
    "    \n",
    "%pwd"
   ]
  },
  {
   "cell_type": "markdown",
   "metadata": {},
   "source": [
    "### **1. Dependencies**"
   ]
  },
  {
   "cell_type": "code",
   "execution_count": null,
   "metadata": {},
   "outputs": [],
   "source": [
    "from pathlib import Path\n",
    "from IPython.display import display, Markdown\n",
    "import numpy as np\n",
    "import pandas as pd\n",
    "import xgboost as xgb\n",
    "from sklearn.model_selection import train_test_split\n",
    "\n",
    "from geopy.distance import geodesic\n",
    "from fuzzywuzzy import fuzz\n",
    "import toml\n",
    "\n",
    "\n",
    "SEED = 42\n",
    "connection_threshold = 50\n",
    "\n",
    "data_path = Path(\"data\")\n",
    "data = pd.read_parquet(data_path  / \"interim\" / \"encoded.parquet\", columns=['job_title'])\n",
    "\n",
    "credentials_path = Path(root_dir) / \"config\" / \".credentials\"\n",
    "credentials = toml.load(credentials_path)\n",
    "\n",
    "keywords_path = Path(root_dir) / \"config\" / \"search_terms.toml\"\n",
    "target_keywords = toml.load(keywords_path)['search_phrases']\n",
    "target_location = toml.load(keywords_path)['search_phrases']\n",
    "\n",
    "# API and credentials setup\n",
    "API_URL = \"https://api-inference.huggingface.co/models/sentence-transformers/msmarco-distilbert-base-tas-b\"\n",
    "headers = {\"Authorization\": f\"Bearer {credentials['hf_api_token']}\"}"
   ]
  },
  {
   "cell_type": "markdown",
   "metadata": {},
   "source": [
    "**Key Highlights**:\n",
    "\n",
    "- `xgboost` is a robust and scalable gradient boosting library, ideal for implementing Learning-to-Rank models.\n",
    "- `pandas` enables efficient data manipulation and analysis.\n",
    "- `IPython.display` supports dynamic visualization in notebooks."
   ]
  },
  {
   "cell_type": "markdown",
   "metadata": {},
   "source": [
    "### **2. Initial Setup**\n",
    "\n",
    "#### Data Loading and Initial Ranking"
   ]
  },
  {
   "cell_type": "code",
   "execution_count": null,
   "metadata": {},
   "outputs": [],
   "source": [
    "data_path = Path(\"data\")\n",
    "data = pd.read_parquet(data_path / \"processed\" / \"grouped_results.parquet\")\\\n",
    "         .sort_values('fit', ascending=False)\n",
    "# Initial Ranking\n",
    "data['rank'] = range(1, len(data) + 1)\n",
    "data['is_starred'] = 0\n",
    "data = data.reset_index()\n",
    "data.head()\n"
   ]
  },
  {
   "cell_type": "markdown",
   "metadata": {},
   "source": [
    "- The `fit` score represents the initial evaluation of candidate suitability for a role.\n",
    "- A simple ranking (`rank`) is assigned based on descending `fit` values.\n",
    "- The `is_starred` column allows for supervisory input, marking candidates as starred for preference."
   ]
  },
  {
   "cell_type": "markdown",
   "metadata": {},
   "source": [
    "### **3. Incorporating User Feedback for Re-Ranking**\n",
    "\n",
    "#### **Dynamic Starring Functionality**"
   ]
  },
  {
   "cell_type": "code",
   "execution_count": null,
   "metadata": {},
   "outputs": [],
   "source": [
    "def star_candidate(data):\n",
    "    \"\"\"\n",
    "    Allow the user to interactively star a candidate and update the rankings.\n",
    "    \"\"\"\n",
    "    print(\"\\\\nCurrent Candidates:\")\n",
    "    print(data[['job_title', 'fit', 'rank']])\n",
    "\n",
    "    user_input = input(\"\\\\nEnter the job title or rank of the candidate to star: \")\n",
    "\n",
    "    try:\n",
    "        if user_input.isdigit():\n",
    "            rank = int(user_input)\n",
    "            if rank in data['rank'].values:\n",
    "                data.loc[data['rank'] == rank, 'is_starred'] = 1\n",
    "            else:\n",
    "                print(\"Invalid rank. Please try again.\")\n",
    "                return data\n",
    "        elif user_input in data['job_title'].values:\n",
    "            data.loc[data['job_title'] == user_input, 'is_starred'] = 1\n",
    "        else:\n",
    "            print(\"Invalid job title. Please try again.\")\n",
    "            return data\n",
    "\n",
    "        print(f\"\\\\nCandidate '{user_input}' has been starred.\")\n",
    "    except Exception as e:\n",
    "        print(f\"Error: {e}\")\n",
    "\n",
    "    return data\n",
    "\n",
    "data = star_candidate(data)"
   ]
  },
  {
   "cell_type": "markdown",
   "metadata": {},
   "source": [
    "- The `star_candidate` function allows users to influence rankings in real time, incorporating domain-specific preferences.\n",
    "- This interactivity ensures human oversight remains central to the process."
   ]
  },
  {
   "cell_type": "markdown",
   "metadata": {},
   "source": [
    "### **4. Re-Ranking with Learning-to-Rank (LTR)**\n",
    "\n",
    "#### Pairwise Data Generation for Training"
   ]
  },
  {
   "cell_type": "code",
   "execution_count": null,
   "metadata": {},
   "outputs": [],
   "source": [
    "def generate_pairwise_data(df):\n",
    "    \"\"\"Generate pairwise training data for LTR.\"\"\"\n",
    "    starred = df[df['is_starred'] == 1]\n",
    "    not_starred = df[df['is_starred'] == 0]\n",
    "    \n",
    "    X, y = [], []\n",
    "    for _, s_row in starred.iterrows():\n",
    "        for _, ns_row in not_starred.iterrows():\n",
    "            X.append([s_row['fit'] - ns_row['fit']])\n",
    "            y.append(1)  # Positive pair: Starred is better\n",
    "            \n",
    "            X.append([ns_row['fit'] - s_row['fit']])\n",
    "            y.append(0)  # Negative pair: Not-starred is worse\n",
    "    return np.array(X), np.array(y)\n",
    "\n",
    "\n",
    "X, y = generate_pairwise_data(data)\n",
    "\n",
    "# Train-Test Split\n",
    "X_train, X_test, y_train, y_test = train_test_split(X, y, test_size=0.2, random_state=SEED)\n",
    "\n",
    "print(\"Pairwise Training Data:\")\n",
    "print(X[:5], y[:5])"
   ]
  },
  {
   "cell_type": "markdown",
   "metadata": {},
   "source": [
    "## Training the LambdaMART Model"
   ]
  },
  {
   "cell_type": "code",
   "execution_count": null,
   "metadata": {},
   "outputs": [],
   "source": [
    "model = xgb.XGBRanker(\n",
    "    objective=\"rank:pairwise\",\n",
    "    learning_rate=0.1,\n",
    "    max_depth=5,\n",
    "    n_estimators=100,\n",
    "    random_state=42\n",
    ")\n",
    "\n",
    "# Group by candidate sets\n",
    "group = [len(X_train)]\n",
    "\n",
    "model.fit(X_train, y_train, group=group)"
   ]
  },
  {
   "cell_type": "code",
   "execution_count": null,
   "metadata": {},
   "outputs": [],
   "source": [
    "data['adjusted_fit'] = model.predict(data[['fit']].values)\n",
    "data = data.sort_values('adjusted_fit', ascending=False).reset_index(drop=True)\n",
    "data['rank'] = range(1, len(data) + 1)\n"
   ]
  },
  {
   "cell_type": "markdown",
   "metadata": {},
   "source": [
    "**Key Advantages**:\n",
    "\n",
    "- **Scalability**: LambdaMART is designed for large-scale applications, handling numerous candidates effectively.\n",
    "- **Feedback Integration**: Incorporating starring ensures the model adapts dynamically to new preferences."
   ]
  },
  {
   "cell_type": "markdown",
   "metadata": {},
   "source": [
    "### **5. Filtering Candidates**\n",
    "\n",
    "#### Pre-Processing Filters"
   ]
  },
  {
   "cell_type": "code",
   "execution_count": null,
   "metadata": {},
   "outputs": [],
   "source": [
    "# Define target keywords, location, and thresholds\n",
    "def filter_by_text(data, keywords, threshold=60):\n",
    "    \"\"\"Filter candidates based on fuzzy text matching.\"\"\"\n",
    "    return data  # Implementation placeholder\n",
    "\n",
    "filtered_data = filter_by_text(data, target_keywords, threshold=60)\n"
   ]
  }
 ],
 "metadata": {
  "kernelspec": {
   "display_name": "Python 3",
   "language": "python",
   "name": "python3"
  },
  "language_info": {
   "name": "python",
   "version": "3.11.9"
  }
 },
 "nbformat": 4,
 "nbformat_minor": 2
}
